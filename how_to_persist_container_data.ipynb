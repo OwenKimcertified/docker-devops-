{
 "cells": [
  {
   "cell_type": "markdown",
   "metadata": {},
   "source": [
    "### 컨테이너가 만들어낸 데이터 유지하기 (volume)\n",
    "\n",
    "volume 은 도커가 관리하는 로컬 파일 시스템의 경로.\n",
    "\n",
    "### docker-compose.yaml 예시\n",
    "```python\n",
    "todo-database:\n",
    "    # ...\n",
    "    volumes:\n",
    "      - database:/data/db\n",
    "            a       b\n",
    "# ...\n",
    "volumes:\n",
    "    c\n",
    "  database:\n",
    "      \n",
    "```\n",
    "\n",
    "todo-database 하위의 volume 요소는 database [a]이름의 볼륨을 /data/db [b]경로에 마운트함.\n",
    "\n",
    "top - level 에 위치한 volumes [c] 섹션은 database 라는 이름의 volume 을 정의함."
   ]
  }
 ],
 "metadata": {
  "language_info": {
   "name": "python"
  }
 },
 "nbformat": 4,
 "nbformat_minor": 2
}
