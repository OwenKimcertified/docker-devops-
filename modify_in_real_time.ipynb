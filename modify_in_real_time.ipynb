{
 "cells": [
  {
   "cell_type": "markdown",
   "metadata": {},
   "source": [
    "### real time modify (container app) \n",
    "\n",
    "\n",
    "### docker compose.yaml 파일 예시\n",
    "\n",
    "```python \n",
    "services:\n",
    "  todo-app:\n",
    "    build:\n",
    "      context: ./app\n",
    "    depends_on:\n",
    "      - todo-database\n",
    "    environment:\n",
    "      NODE_ENV: production\n",
    "    ports:\n",
    "      - 3000:3000\n",
    "      - 35729:35729\n",
    "    develop:\n",
    "      watch:\n",
    "        - path: ./app/package.json\n",
    "          action: rebuild\n",
    "        - path: ./app\n",
    "          target: /usr/src/app\n",
    "          action: sync\n",
    "\n",
    "  todo-database:\n",
    "    image: mongo:6\n",
    "    volumes: \n",
    "     - database:/data/db\n",
    "    ports:\n",
    "      - 27017:27017\n",
    "\n",
    "volumes:\n",
    "  database:\n",
    "```\n",
    "\n",
    "to-do app 의 하위 element 인 develop 에서\n",
    "\n",
    "docker compose watch cli 사용 시 \n",
    "\n",
    "`./app/package.json 를 리빌드 하고, /usr/src/app 에 동기화`\n"
   ]
  }
 ],
 "metadata": {
  "language_info": {
   "name": "python"
  }
 },
 "nbformat": 4,
 "nbformat_minor": 2
}
